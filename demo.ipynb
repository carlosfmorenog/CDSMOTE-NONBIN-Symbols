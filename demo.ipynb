{
  "cells": [
    {
      "cell_type": "markdown",
      "metadata": {
        "id": "view-in-github",
        "colab_type": "text"
      },
      "source": [
        "<a href=\"https://colab.research.google.com/github/carlosfmorenog/CDSMOTE-NONBIN-Symbols/blob/main/demo.ipynb\" target=\"_parent\"><img src=\"https://colab.research.google.com/assets/colab-badge.svg\" alt=\"Open In Colab\"/></a>"
      ]
    },
    {
      "cell_type": "markdown",
      "metadata": {
        "id": "VuMklL48gI7y"
      },
      "source": [
        "# A Multiclass Imbalanced Dataset Classification of Symbols from Piping and Instrumentation Diagrams"
      ]
    },
    {
      "cell_type": "markdown",
      "metadata": {
        "id": "m77lsamsgI71"
      },
      "source": [
        "## Please reference the following paper:\n",
        "\n",
        "* Elyan E, Moreno-García CF, Johnston P. Symbols in Engineering Drawings (SiED): An Imbalanced Dataset Benchmarked by Convolutional Neural Networks. In: Engineering Applications of Neural Networks (EANN). 2020. p. 215–24.\n",
        "\n",
        "## Bibtex Citation\n",
        "\n",
        "@inproceedings{Elyan2020,\n",
        "author = {Elyan, Eyad and Moreno-Garc{\\'{i}}a, Carlos Francisco and Johnston, Pamela},\n",
        "booktitle = {Engineering Applications of Neural Networks (EANN)},\n",
        "doi = {10.1007/978-3-030-48791-1},\n",
        "isbn = {9783030487911},\n",
        "keywords = {Imbalance Datasets Multiclass,P{\\&}ID,classification,cnn,engineering drawings,id,imbalanced dataset,multiclass,p},\n",
        "mendeley-tags = {Imbalance Datasets Multiclass,P{\\&}ID},\n",
        "pages = {215--224},\n",
        "title = {{Symbols in Engineering Drawings (SiED): An Imbalanced Dataset Benchmarked by Convolutional Neural Networks}},\n",
        "year = {2020}\n",
        "}\n"
      ]
    },
    {
      "cell_type": "code",
      "execution_count": null,
      "metadata": {
        "id": "4TZYuNfkgI73"
      },
      "outputs": [],
      "source": [
        "## Import necessary packages\n",
        "import sys\n",
        "import clustData\n",
        "import computeKVs\n",
        "import numpy as np\n",
        "import csv\n",
        "import math\n",
        "import pandas as pd\n",
        "import seaborn as sns\n",
        "import matplotlib.pyplot as plt\n",
        "from imblearn.over_sampling import SMOTE\n",
        "from imblearn.over_sampling import ADASYN\n",
        "from sklearn.model_selection import StratifiedShuffleSplit\n",
        "from sklearn import svm\n",
        "from sklearn.ensemble import RandomForestClassifier\n",
        "from sklearn import metrics\n",
        "from itertools import chain"
      ]
    },
    {
      "cell_type": "markdown",
      "metadata": {
        "id": "UuMkk3mUgI75"
      },
      "source": [
        "To test this method, we will use P&ID symbols extracted from two different drawing standards. We collected a total of $7702$ symbols corresponding to $37$ different classes. All symbols have been reshaped to $100 \\times 100$, then binarised using `cv2.threshold` with `threshold=180` and flattened as $1 \\times 10 000$ vectors to be stored in the *.csv file\n",
        "\n",
        "![Fig 1. Sample of Symbols to Classify](https://www.dropbox.com/s/xd2gvg2aavg5tfw/fig2.png?raw=1)"
      ]
    },
    {
      "cell_type": "markdown",
      "metadata": {
        "id": "zDFglsKUgI76"
      },
      "source": [
        "To apply the CDSMOTE method, we need to define the following parameters:\n",
        "\n",
        "* `classdecomp`: You can select different algorithms to cluster in the CD step. According to our experimental results, DBSCAN yields the best outcomes for sentiment analysis given the cosine similarity distance calculation.\n",
        "* `oversampler`: You can choose between SMOTE or ADASYN for the oversampling step. Currently we have always implemented SMOTE, hence the name of the method\n",
        "* `n_clusters`: Number of clusters in which the majority class will be decomposed. In this case, we will set it to 10.\n",
        "* `threshold`: If the number of samples of class is `threshold` samples below the average number of samples per class (after the decomposition step), then the class is selected for augmentation."
      ]
    },
    {
      "cell_type": "code",
      "execution_count": null,
      "metadata": {
        "id": "eGaHK1bVgI77"
      },
      "outputs": [],
      "source": [
        "classdecomp = 'Kmeans' # 'FCmeans', 'FCmeansOptimised' and 'DBSCAN' also available \n",
        "oversampler = 'SMOTE' #'ADASYN' also available\n",
        "threshold = 10 # if samples in positive class are apart from average by more than this value, apply oversampling (Sec 3.2 paper)\n",
        "n_clusters = 10 # used in option \"majority\""
      ]
    },
    {
      "cell_type": "markdown",
      "metadata": {
        "id": "9TmGsrqigI78"
      },
      "source": [
        "**STEP 1:** Loading the dataset"
      ]
    },
    {
      "cell_type": "code",
      "execution_count": null,
      "metadata": {
        "scrolled": false,
        "id": "5JEJ9YAHgI79",
        "outputId": "7701b3f8-cc66-4c1e-c0f3-5e5ec7341650"
      },
      "outputs": [
        {
          "name": "stdout",
          "output_type": "stream",
          "text": [
            "Dataset: symbols_combined_pixel_red\n",
            "                     Class  Number of Samples\n",
            "0                Arrowhead                241\n",
            "1     Arrowhead + Triangle                 83\n",
            "2                      Box                  7\n",
            "3         Continuity Label                288\n",
            "4                  Control                 20\n",
            "5            Control Valve                 60\n",
            "6      Control Valve Globe                 23\n",
            "7                   DB&BBV                144\n",
            "8     DB&BBV + Valve Check                 39\n",
            "9                   DB&BPV                113\n",
            "10         ESDV Valve Ball                 88\n",
            "11    ESDV Valve Butterfly                  7\n",
            "12    ESDV Valve Slab Gate                  9\n",
            "13      Exit to Atmosphere                 14\n",
            "14       Flange + Triangle                 17\n",
            "15            Flange Joint                419\n",
            "16   Flange Single T-Shape                 64\n",
            "17          Injector Point                 43\n",
            "18                 Reducer                877\n",
            "19            Rupture Disc                 10\n",
            "20                  Sensor               2845\n",
            "21         Spectacle Blind                 42\n",
            "22      Temporary Strainer                  6\n",
            "23         Three Way Valve                 24\n",
            "24            Tie In Point                 41\n",
            "25                Triangle                 74\n",
            "26                   Valve                915\n",
            "27             Valve Angle                 51\n",
            "28       Valve Ball Type 1                173\n",
            "29       Valve Ball Type 2                262\n",
            "30  Valve Butterfly Type 1                 71\n",
            "31             Valve Check                126\n",
            "32      Valve Globe Type 1                256\n",
            "33      Valve Globe Type 2                 28\n",
            "34     Valve Needle Type 1                 77\n",
            "35     Valve Needle Type 2                 33\n",
            "36              Valve Plug                 88\n",
            "37         Valve Slab Gate                 24\n",
            "Total samples: 7702\n",
            "\n",
            "Showing class distribution bar chart...\n"
          ]
        },
        {
          "data": {
            "image/png": "[encoded data removed]",
            "text/plain": [
              "<Figure size 720x432 with 1 Axes>"
            ]
          },
          "metadata": {
            "needs_background": "light"
          },
          "output_type": "display_data"
        }
      ],
      "source": [
        "## 1. Load dataset (due to the size of the original repo, we will import it from a cloud location)\n",
        "data_and_target = pd.read_csv('https://www.dropbox.com/s/sj277k4slmrv3qc/symbols_combined_pixel_red.csv?raw=1',\n",
        "                             header = None)\n",
        "data = data_and_target.iloc[:,:-1].values.tolist()\n",
        "target = data_and_target.iloc[:,-1:].to_numpy().tolist()\n",
        "target = list(chain.from_iterable(target))\n",
        "\n",
        "## 2. Find majority and minority classes\n",
        "majority_class = max(set(target), key=target.count)\n",
        "minority_class = min(set(target), key=target.count)\n",
        "\n",
        "## 3. Plot distribution of original dataset\n",
        "print('Dataset: '+str(dataset))\n",
        "histo = [['Class','Number of Samples']]\n",
        "for i, label1 in enumerate(sorted(list(set(target)))):\n",
        "    cont = 0\n",
        "    for j, label2 in enumerate(target):\n",
        "        if label1 == label2:\n",
        "            cont+=1\n",
        "    histo.append([label1,cont])\n",
        "histo.append(['Total Samples', len(target)])\n",
        "\n",
        "# Load as a panda\n",
        "histo_panda = pd.DataFrame.from_records(histo[1:-1], columns=histo[0])\n",
        "print(histo_panda)\n",
        "print('Total samples: '+str(len(target)))\n",
        "# Create a histogram using seaborn\n",
        "sns_plot = sns.barplot(x=\"Class\", y=\"Number of Samples\", data=histo_panda)\n",
        "# Save the image\n",
        "sns_plot.figure.set_size_inches(10, 6)\n",
        "print('\\nShowing class distribution bar chart...')\n",
        "plt.show()"
      ]
    },
    {
      "cell_type": "markdown",
      "metadata": {
        "id": "IsIadb50gI7-"
      },
      "source": [
        "**STEP 2:** Apply class decomposition to the majority class (i.e. Sensors)"
      ]
    },
    {
      "cell_type": "code",
      "execution_count": null,
      "metadata": {
        "id": "FVmmt506gI7_",
        "outputId": "13916117-648d-4e74-b50c-5ffa63c69260"
      },
      "outputs": [
        {
          "name": "stdout",
          "output_type": "stream",
          "text": [
            "\n",
            "Class decomposition by applying k-means...\n",
            "No clustering performed for class Arrowhead.\n",
            "No clustering performed for class Arrowhead + Triangle.\n",
            "No clustering performed for class Box.\n",
            "No clustering performed for class Continuity Label.\n",
            "No clustering performed for class Control.\n",
            "No clustering performed for class Control Valve.\n",
            "No clustering performed for class Control Valve Globe.\n",
            "No clustering performed for class DB&BBV.\n",
            "No clustering performed for class DB&BBV + Valve Check.\n",
            "No clustering performed for class DB&BPV.\n",
            "No clustering performed for class ESDV Valve Ball.\n",
            "No clustering performed for class ESDV Valve Butterfly.\n",
            "No clustering performed for class ESDV Valve Slab Gate.\n",
            "No clustering performed for class Exit to Atmosphere.\n",
            "No clustering performed for class Flange + Triangle.\n",
            "No clustering performed for class Flange Joint.\n",
            "No clustering performed for class Flange Single T-Shape.\n",
            "No clustering performed for class Injector Point.\n",
            "No clustering performed for class Reducer.\n",
            "No clustering performed for class Rupture Disc.\n",
            "Number of clusters for class Sensor: 10\n",
            "No clustering performed for class Spectacle Blind.\n",
            "No clustering performed for class Temporary Strainer.\n",
            "No clustering performed for class Three Way Valve.\n",
            "No clustering performed for class Tie In Point.\n",
            "No clustering performed for class Triangle.\n",
            "No clustering performed for class Valve.\n",
            "No clustering performed for class Valve Angle.\n",
            "No clustering performed for class Valve Ball Type 1.\n",
            "No clustering performed for class Valve Ball Type 2.\n",
            "No clustering performed for class Valve Butterfly Type 1.\n",
            "No clustering performed for class Valve Check.\n",
            "No clustering performed for class Valve Globe Type 1.\n",
            "No clustering performed for class Valve Globe Type 2.\n",
            "No clustering performed for class Valve Needle Type 1.\n",
            "No clustering performed for class Valve Needle Type 2.\n",
            "No clustering performed for class Valve Plug.\n",
            "No clustering performed for class Valve Slab Gate.\n",
            "                        Class  Number of Samples\n",
            "0     Arrowhead + Triangle_c0                 83\n",
            "1                Arrowhead_c0                241\n",
            "2                      Box_c0                  7\n",
            "3         Continuity Label_c0                288\n",
            "4      Control Valve Globe_c0                 23\n",
            "5            Control Valve_c0                 60\n",
            "6                  Control_c0                 20\n",
            "7     DB&BBV + Valve Check_c0                 39\n",
            "8                   DB&BBV_c0                144\n",
            "9                   DB&BPV_c0                113\n",
            "10         ESDV Valve Ball_c0                 88\n",
            "11    ESDV Valve Butterfly_c0                  7\n",
            "12    ESDV Valve Slab Gate_c0                  9\n",
            "13      Exit to Atmosphere_c0                 14\n",
            "14       Flange + Triangle_c0                 17\n",
            "15            Flange Joint_c0                419\n",
            "16   Flange Single T-Shape_c0                 64\n",
            "17          Injector Point_c0                 43\n",
            "18                 Reducer_c0                877\n",
            "19            Rupture Disc_c0                 10\n",
            "20                  Sensor_c0                202\n",
            "21                  Sensor_c1                673\n",
            "22                  Sensor_c2                132\n",
            "23                  Sensor_c3                332\n",
            "24                  Sensor_c4                184\n",
            "25                  Sensor_c5                203\n",
            "26                  Sensor_c6                536\n",
            "27                  Sensor_c7                219\n",
            "28                  Sensor_c8                103\n",
            "29                  Sensor_c9                261\n",
            "30         Spectacle Blind_c0                 42\n",
            "31      Temporary Strainer_c0                  6\n",
            "32         Three Way Valve_c0                 24\n",
            "33            Tie In Point_c0                 41\n",
            "34                Triangle_c0                 74\n",
            "35             Valve Angle_c0                 51\n",
            "36       Valve Ball Type 1_c0                173\n",
            "37       Valve Ball Type 2_c0                262\n",
            "38  Valve Butterfly Type 1_c0                 71\n",
            "39             Valve Check_c0                126\n",
            "40      Valve Globe Type 1_c0                256\n",
            "41      Valve Globe Type 2_c0                 28\n",
            "42     Valve Needle Type 1_c0                 77\n",
            "43     Valve Needle Type 2_c0                 33\n",
            "44              Valve Plug_c0                 88\n",
            "45         Valve Slab Gate_c0                 24\n",
            "46                   Valve_c0                915\n",
            "Total samples: 7702\n",
            "Average number of samples per class: 163.87234042553192\n",
            "\n",
            "Showing class distribution bar chart...\n"
          ]
        },
        {
          "data": {
            "image/png": "[encoded data removed]",
            "text/plain": [
              "<Figure size 720x432 with 1 Axes>"
            ]
          },
          "metadata": {
            "needs_background": "light"
          },
          "output_type": "display_data"
        }
      ],
      "source": [
        "## 1. Calculate k vector (for class decomposition)\n",
        "k = computeKVs.majority(data, target, n_clusters)\n",
        "\n",
        "## 2. Cluster the data\n",
        "if classdecomp.lower()=='kmeans':\n",
        "    target_cd = clustData.Kmeans(data, target, k)\n",
        "elif classdecomp.lower()=='fcmeans':\n",
        "    target_cd = clustData.FCmeans(data, target, k)\n",
        "elif classdecomp.lower()=='fcmeansoptimised':\n",
        "     target_cd = clustData.FCmeansOptimised(data, target, k, max_nclusters = 10)   \n",
        "elif classdecomp.lower()=='dbscan':        \n",
        "     target_cd = clustData.DBSCAN(data, target, k, eps=0.5, min_samples=5)\n",
        "else:\n",
        "    print('Invalid clustering algorithm selected.')\n",
        "    sys.exit()\n",
        "    \n",
        "## 3. Plot distribution after cd\n",
        "histo = [['Class','Number of Samples']]\n",
        "for i, label1 in enumerate(sorted(list(set(target_cd)))):\n",
        "    cont = 0\n",
        "    for j, label2 in enumerate(target_cd):\n",
        "        if label1 == label2:\n",
        "            cont+=1\n",
        "    histo.append([label1,cont])\n",
        "histo.append(['Total Samples', len(target_cd)])\n",
        "# Load as a panda\n",
        "histo_panda = pd.DataFrame.from_records(histo[1:-1], columns=histo[0])\n",
        "print(histo_panda)\n",
        "print('Total samples: '+str(len(target_cd)))\n",
        "# Create a histogram using seaborn\n",
        "sns_plot = sns.barplot(x=\"Class\", y=\"Number of Samples\", data=histo_panda)\n",
        "# draw a line depicting the average\n",
        "indexesUnique = list(set(target_cd))\n",
        "indexesUnique.sort()\n",
        "cdclassdist_count = []\n",
        "cdclassdist_names = []\n",
        "for cdclass in indexesUnique:\n",
        "     cdclassdist_count.append(target_cd.count(cdclass))\n",
        "     cdclassdist_names.append(cdclass)\n",
        "average = sum(cdclassdist_count)/len(cdclassdist_count)\n",
        "print('Average number of samples per class:', average)\n",
        "plt.axhline(average, color='red')\n",
        "# Save the image\n",
        "sns_plot.figure.set_size_inches(10, 6)\n",
        "print('\\nShowing class distribution bar chart...')\n",
        "plt.show()"
      ]
    },
    {
      "cell_type": "markdown",
      "metadata": {
        "id": "a54st545gI8A"
      },
      "source": [
        "**STEP 3:** Apply oversampling to all classes which have `average-threshold` samples or less"
      ]
    },
    {
      "cell_type": "code",
      "execution_count": null,
      "metadata": {
        "id": "2qrdahN_gI8A",
        "outputId": "d39f2401-c40b-4ffe-f7aa-3cbdeac0c5b9"
      },
      "outputs": [
        {
          "name": "stdout",
          "output_type": "stream",
          "text": [
            "Oversampling class Arrowhead + Triangle_c0...\n",
            "Oversampling class Box_c0...\n",
            "Oversampling class Control Valve Globe_c0...\n",
            "Oversampling class Control Valve_c0...\n",
            "Oversampling class Control_c0...\n",
            "Oversampling class DB&BBV + Valve Check_c0...\n",
            "Oversampling class DB&BBV_c0...\n",
            "Oversampling class DB&BPV_c0...\n",
            "Oversampling class ESDV Valve Ball_c0...\n",
            "Oversampling class ESDV Valve Butterfly_c0...\n",
            "Oversampling class ESDV Valve Slab Gate_c0...\n",
            "Oversampling class Exit to Atmosphere_c0...\n",
            "Oversampling class Flange + Triangle_c0...\n",
            "Oversampling class Flange Single T-Shape_c0...\n",
            "Oversampling class Injector Point_c0...\n",
            "Oversampling class Rupture Disc_c0...\n",
            "Oversampling class Spectacle Blind_c0...\n",
            "Oversampling class Temporary Strainer_c0...\n",
            "Oversampling class Three Way Valve_c0...\n",
            "Oversampling class Tie In Point_c0...\n",
            "Oversampling class Triangle_c0...\n",
            "Oversampling class Valve Angle_c0...\n",
            "Oversampling class Valve Butterfly Type 1_c0...\n",
            "Oversampling class Valve Check_c0...\n",
            "Oversampling class Valve Globe Type 2_c0...\n",
            "Oversampling class Valve Needle Type 1_c0...\n",
            "Oversampling class Valve Needle Type 2_c0...\n",
            "Oversampling class Valve Plug_c0...\n",
            "Oversampling class Valve Slab Gate_c0...\n",
            "                        Class  Number of Samples\n",
            "0     Arrowhead + Triangle_c0                173\n",
            "1                Arrowhead_c0                241\n",
            "2                      Box_c0                173\n",
            "3         Continuity Label_c0                288\n",
            "4      Control Valve Globe_c0                173\n",
            "5            Control Valve_c0                173\n",
            "6                  Control_c0                173\n",
            "7     DB&BBV + Valve Check_c0                173\n",
            "8                   DB&BBV_c0                173\n",
            "9                   DB&BPV_c0                173\n",
            "10         ESDV Valve Ball_c0                173\n",
            "11    ESDV Valve Butterfly_c0                173\n",
            "12    ESDV Valve Slab Gate_c0                173\n",
            "13      Exit to Atmosphere_c0                173\n",
            "14       Flange + Triangle_c0                173\n",
            "15            Flange Joint_c0                419\n",
            "16   Flange Single T-Shape_c0                173\n",
            "17          Injector Point_c0                173\n",
            "18                 Reducer_c0                877\n",
            "19            Rupture Disc_c0                173\n",
            "20                  Sensor_c0                202\n",
            "21                  Sensor_c1                673\n",
            "22                  Sensor_c2                132\n",
            "23                  Sensor_c3                332\n",
            "24                  Sensor_c4                184\n",
            "25                  Sensor_c5                203\n",
            "26                  Sensor_c6                536\n",
            "27                  Sensor_c7                219\n",
            "28                  Sensor_c8                103\n",
            "29                  Sensor_c9                261\n",
            "30         Spectacle Blind_c0                173\n",
            "31      Temporary Strainer_c0                173\n",
            "32         Three Way Valve_c0                173\n",
            "33            Tie In Point_c0                173\n",
            "34                Triangle_c0                173\n",
            "35             Valve Angle_c0                173\n",
            "36       Valve Ball Type 1_c0                173\n",
            "37       Valve Ball Type 2_c0                262\n",
            "38  Valve Butterfly Type 1_c0                173\n",
            "39             Valve Check_c0                173\n",
            "40      Valve Globe Type 1_c0                256\n",
            "41      Valve Globe Type 2_c0                173\n",
            "42     Valve Needle Type 1_c0                173\n",
            "43     Valve Needle Type 2_c0                173\n",
            "44              Valve Plug_c0                173\n",
            "45         Valve Slab Gate_c0                173\n",
            "46                   Valve_c0                915\n",
            "Total samples: 11293\n",
            "New average number of samples per class: 240.27659574468086\n",
            "\n",
            "Showing class distribution bar chart...\n"
          ]
        },
        {
          "data": {
            "image/png": "[encoded data removed]",
            "text/plain": [
              "<Figure size 720x432 with 1 Axes>"
            ]
          },
          "metadata": {
            "needs_background": "light"
          },
          "output_type": "display_data"
        }
      ],
      "source": [
        "## 1. Calculate reference class (i.e. closest to the average and above it) for oversampling\n",
        "c = np.inf\n",
        "ref = majority_class+'_c0' # gets picked by default if none other accomplishes\n",
        "for i,j in enumerate(cdclassdist_count):\n",
        "    if abs(j-average)<c and j-average>=0:\n",
        "        c = abs(j-average)\n",
        "        ref = cdclassdist_names[i]\n",
        "\n",
        "data_cdsmote = list(np.asarray(data)[(np.where(np.asarray(target)==majority_class))])\n",
        "target_cdsmote = list(np.asarray(target_cd)[(np.where(np.asarray(target)==majority_class))])\n",
        "\n",
        "## 2. For all non-majority classes (considering the original dataset), see if they are far (i.e. difference greater than the threshold) from the average (red line in the last plot)\n",
        "flag = 0\n",
        "for i, cdclassdist_name in enumerate(cdclassdist_names):\n",
        "    if majority_class not in cdclassdist_name.split('_')[0]:\n",
        "        if abs(average-cdclassdist_count[i])>threshold and average-cdclassdist_count[i]>=0:\n",
        "            flag = 1\n",
        "            print('Oversampling class '+str(cdclassdist_name)+'...')            \n",
        "            ## 3. Create a sub-dataset that only contains the new majority and current non-minority classes\n",
        "            data_majmin = []\n",
        "            target_majmin = []\n",
        "            for j, label in enumerate(target_cd):\n",
        "                if label == cdclassdist_name or label == ref:\n",
        "                    data_majmin.append(data[j])\n",
        "                    target_majmin.append(label)\n",
        "            ## 4. Do the oversampling\n",
        "            if oversampler.lower() == 'smote':\n",
        "                sm = SMOTE()\n",
        "                data_over, target_over = sm.fit_resample(data_majmin, target_majmin) \n",
        "            elif oversampler.lower() == 'adasyn':\n",
        "                ada = ADASYN()\n",
        "                data_over, target_over = ada.fit_resample(data_majmin, target_majmin)\n",
        "            else:\n",
        "                print('Invalid oversampling algorithm.')\n",
        "                sys.exit() \n",
        "            # Append the oversampled data to the new repository\n",
        "            for j, label in enumerate(target_over):\n",
        "                if label == cdclassdist_name:\n",
        "                    data_cdsmote.append(list(data_over[j]))\n",
        "                    target_cdsmote.append(label)\n",
        "        else:\n",
        "            # Append the not-oversampled\n",
        "            for j, label in enumerate(target_cd):\n",
        "                if label == cdclassdist_name:\n",
        "                    data_cdsmote.append(list(data[j]))\n",
        "                    target_cdsmote.append(label)\n",
        "            \n",
        "    \n",
        "## 5. Plot distribution after smote\n",
        "if flag == 1:\n",
        "    histo = [['Class','Number of Samples']]\n",
        "    for i, label1 in enumerate(sorted(list(set(target_cdsmote)))):\n",
        "        cont = 0\n",
        "        for j, label2 in enumerate(target_cdsmote):\n",
        "            if label1 == label2:\n",
        "                cont+=1\n",
        "        histo.append([label1,cont])\n",
        "    histo.append(['Total Samples', len(target_cdsmote)])\n",
        "\n",
        "    ## Load as a panda\n",
        "    histo_panda = pd.DataFrame.from_records(histo[1:-1], columns=histo[0])\n",
        "    print(histo_panda)\n",
        "    print('Total samples: '+str(len(target_cdsmote)))\n",
        "    ## Create a histogram using seaborn\n",
        "    sns_plot = sns.barplot(x=\"Class\", y=\"Number of Samples\", data=histo_panda)\n",
        "    ## draw a line depicting the average\n",
        "    indexesUnique = list(set(target_cdsmote))\n",
        "    indexesUnique.sort()\n",
        "    newestclassdist_count = []\n",
        "    for newestclass in indexesUnique:\n",
        "          newestclassdist_count.append(target_cdsmote.count(newestclass))\n",
        "    average_new = sum(newestclassdist_count)/len(newestclassdist_count)\n",
        "    print('New average number of samples per class:', average_new)\n",
        "    plt.axhline(average, color='red')\n",
        "    plt.axhline(average_new, color='blue')\n",
        "    ## Save the image\n",
        "    sns_plot.figure.set_size_inches(10, 6)\n",
        "    print('\\nShowing class distribution bar chart...')\n",
        "    plt.show()\n",
        "else:\n",
        "    print('All non-majority classes are close to average. No oversampling was needed.')"
      ]
    },
    {
      "cell_type": "markdown",
      "metadata": {
        "id": "Vsdmly95gI8B"
      },
      "source": [
        "**STEP 4:** Classification (using SVM), comparing the **weighted** *precision*, *recall* and *f1-score* of the original dataset versus the one generated through CDSMOTE. We apply a five fold cross validation."
      ]
    },
    {
      "cell_type": "code",
      "execution_count": null,
      "metadata": {
        "scrolled": true,
        "id": "MjCyrQdZgI8E",
        "outputId": "0f1febda-af9b-4804-a7cd-ecd89b1d48dd"
      },
      "outputs": [
        {
          "name": "stdout",
          "output_type": "stream",
          "text": [
            "\n",
            "\n",
            "\n",
            "Experiment 1 Original DB...\n",
            "Precision Original DB: 0.9531628073915369\n",
            "Recall Original DB: 0.9498052790999567\n",
            "F1 Score Original DB: 0.9476363921022607\n",
            "\n",
            "------\n",
            "\n",
            "Experiment 2 Original DB...\n",
            "Precision Original DB: 0.9564496768110253\n",
            "Recall Original DB: 0.9528342708784077\n",
            "F1 Score Original DB: 0.9500074960141541\n",
            "\n",
            "------\n",
            "\n",
            "Experiment 3 Original DB...\n",
            "Precision Original DB: 0.9551737337405147\n",
            "Recall Original DB: 0.9511034184335785\n",
            "F1 Score Original DB: 0.9479535909721091\n",
            "\n",
            "------\n",
            "\n",
            "Experiment 4 Original DB...\n"
          ]
        },
        {
          "name": "stderr",
          "output_type": "stream",
          "text": [
            "C:\\Anaconda\\lib\\site-packages\\sklearn\\metrics\\_classification.py:1221: UndefinedMetricWarning: Precision is ill-defined and being set to 0.0 in labels with no predicted samples. Use `zero_division` parameter to control this behavior.\n",
            "  _warn_prf(average, modifier, msg_start, len(result))\n",
            "C:\\Anaconda\\lib\\site-packages\\sklearn\\metrics\\_classification.py:1221: UndefinedMetricWarning: Precision is ill-defined and being set to 0.0 in labels with no predicted samples. Use `zero_division` parameter to control this behavior.\n",
            "  _warn_prf(average, modifier, msg_start, len(result))\n"
          ]
        },
        {
          "name": "stdout",
          "output_type": "stream",
          "text": [
            "Precision Original DB: 0.9523344049575958\n",
            "Recall Original DB: 0.9515361315447858\n",
            "F1 Score Original DB: 0.9484953147318262\n",
            "\n",
            "------\n",
            "\n",
            "Experiment 5 Original DB...\n"
          ]
        },
        {
          "name": "stderr",
          "output_type": "stream",
          "text": [
            "C:\\Anaconda\\lib\\site-packages\\sklearn\\metrics\\_classification.py:1221: UndefinedMetricWarning: Precision is ill-defined and being set to 0.0 in labels with no predicted samples. Use `zero_division` parameter to control this behavior.\n",
            "  _warn_prf(average, modifier, msg_start, len(result))\n",
            "C:\\Anaconda\\lib\\site-packages\\sklearn\\metrics\\_classification.py:1221: UndefinedMetricWarning: Precision is ill-defined and being set to 0.0 in labels with no predicted samples. Use `zero_division` parameter to control this behavior.\n",
            "  _warn_prf(average, modifier, msg_start, len(result))\n"
          ]
        },
        {
          "name": "stdout",
          "output_type": "stream",
          "text": [
            "Precision Original DB: 0.952431997702874\n",
            "Recall Original DB: 0.9489398528775422\n",
            "F1 Score Original DB: 0.9465845978138188\n",
            "\n",
            "------\n",
            "\n",
            "Experiment 1 CDSMOTE DB...\n",
            "Precision CDSMOTE DB: 0.9849239196665214\n",
            "Recall CDSMOTE DB: 0.9843565525383707\n",
            "F1 Score CDSMOTE DB: 0.9844701039256643\n",
            "\n",
            "Experiment 2 CDSMOTE DB...\n",
            "Precision CDSMOTE DB: 0.984035475085413\n",
            "Recall CDSMOTE DB: 0.9834710743801653\n",
            "F1 Score CDSMOTE DB: 0.9835078390070822\n",
            "\n",
            "Experiment 3 CDSMOTE DB...\n",
            "Precision CDSMOTE DB: 0.9837109004986501\n",
            "Recall CDSMOTE DB: 0.9828807556080283\n",
            "F1 Score CDSMOTE DB: 0.9828984079278923\n",
            "\n",
            "Experiment 4 CDSMOTE DB...\n",
            "Precision CDSMOTE DB: 0.9816352704166788\n",
            "Recall CDSMOTE DB: 0.980814639905549\n",
            "F1 Score CDSMOTE DB: 0.9809139026778976\n",
            "\n",
            "Experiment 5 CDSMOTE DB...\n",
            "Precision CDSMOTE DB: 0.9884028246225326\n",
            "Recall CDSMOTE DB: 0.9878984651711924\n",
            "F1 Score CDSMOTE DB: 0.9880021298136578\n",
            "\n",
            "\n",
            "Final Results:\n",
            "Average Precision Original DB: 0.9539105241207094\n",
            "Average Recall Original DB: 0.9508437905668542\n",
            "Average F1 Score Original DB: 0.9481354783268339\n",
            "Average Precision CDSMOTE DB: 0.984541678057959\n",
            "Average Recall CDSMOTE DB: 0.9838842975206612\n",
            "Average F1 Score CDSMOTE DB: 0.9839584766704388\n"
          ]
        }
      ],
      "source": [
        "import warnings; warnings.simplefilter('ignore')\n",
        "print('\\n')\n",
        "\n",
        "accuracy_o_final = 0\n",
        "accuracy_c_final = 0\n",
        "recall_o_final = 0\n",
        "recall_c_final = 0\n",
        "precision_o_final = 0\n",
        "precision_c_final = 0\n",
        "f1_o_final = 0\n",
        "f1_c_final = 0\n",
        "\n",
        "## Split data/target and data_cdsmote/target_cdsmote (stratified and with many splits)\n",
        "sss = StratifiedShuffleSplit(n_splits=5, \n",
        "                             test_size=0.3, random_state=42)\n",
        "\n",
        "# Original data, only do on the first test for the dataset to save time\n",
        "experiments = 0\n",
        "for train_index, test_index in sss.split(data, target):\n",
        "    # print(train_index, test_index)\n",
        "    print('\\nExperiment '+str(experiments+1)+' Original DB...')\n",
        "    experiments+=1\n",
        "    X_train_o, X_test_o = np.asarray(data)[train_index], np.asarray(data)[test_index]\n",
        "    y_train_o, y_test_o = np.asarray(target)[train_index], np.asarray(target)[test_index]\n",
        "    clf_o = svm.SVC(kernel='linear')\n",
        "    clf_o.fit(X_train_o, y_train_o)\n",
        "    y_pred_o = clf_o.predict(X_test_o)\n",
        "    # Test         \n",
        "    print(\"Precision Original DB:\",metrics.precision_score(y_test_o, y_pred_o, average='weighted'))\n",
        "    print(\"Recall Original DB:\",metrics.recall_score(y_test_o, y_pred_o, average='weighted'))\n",
        "    print(\"F1 Score Original DB:\",metrics.f1_score(y_test_o, y_pred_o, average='weighted'))\n",
        "    precision_o_final = precision_o_final + metrics.precision_score(y_test_o, y_pred_o, average='weighted')\n",
        "    recall_o_final = recall_o_final + metrics.recall_score(y_test_o, y_pred_o, average='weighted')\n",
        "    f1_o_final = f1_o_final + metrics.f1_score(y_test_o, y_pred_o, average='weighted')\n",
        "\n",
        "    print('\\n------')\n",
        "\n",
        "# CDSMOTE data\n",
        "experiments = 0\n",
        "for train_index, test_index in sss.split(data_cdsmote, target_cdsmote):\n",
        "    print('\\nExperiment '+str(experiments+1)+' CDSMOTE DB...')\n",
        "    experiments+=1\n",
        "    X_train_c, X_test_c,  = np.asarray(data_cdsmote)[train_index], np.asarray(data_cdsmote)[test_index]\n",
        "    y_train_c, y_test_c = np.asarray(target_cdsmote)[train_index], np.asarray(target_cdsmote)[test_index]\n",
        "    # Train models\n",
        "    clf_c = svm.SVC(kernel='linear')\n",
        "    clf_c.fit(X_train_c, y_train_c)\n",
        "    y_pred_c = clf_c.predict(X_test_c)\n",
        "    # Test, making sure accuracy considers sub_classes as good\n",
        "    for i,label in enumerate(y_pred_c):\n",
        "          y_pred_c[i] = label.split('_')[0]\n",
        "    for i,label in enumerate(y_test_c):\n",
        "          y_test_c[i] = label.split('_')[0]\n",
        "    print(\"Precision CDSMOTE DB:\",metrics.precision_score(y_test_c, y_pred_c, average='weighted'))\n",
        "    print(\"Recall CDSMOTE DB:\",metrics.recall_score(y_test_c, y_pred_c, average='weighted'))\n",
        "    print(\"F1 Score CDSMOTE DB:\",metrics.f1_score(y_test_c, y_pred_c, average='weighted'))\n",
        "    precision_c_final = precision_c_final + metrics.precision_score(y_test_c, y_pred_c, average='weighted')\n",
        "    recall_c_final = recall_c_final + metrics.recall_score(y_test_c, y_pred_c, average='weighted')\n",
        "    f1_c_final = f1_c_final + metrics.f1_score(y_test_c, y_pred_c, average='weighted')\n",
        "\n",
        "print('\\n')\n",
        "\n",
        "# Final results\n",
        "print('Final Results:')\n",
        "print(\"Average Precision Original DB:\",precision_o_final/experiments)\n",
        "print(\"Average Recall Original DB:\",recall_o_final/experiments)\n",
        "print(\"Average F1 Score Original DB:\",f1_o_final/experiments)\n",
        "print(\"Average Precision CDSMOTE DB:\",precision_c_final/experiments)\n",
        "print(\"Average Recall CDSMOTE DB:\",recall_c_final/experiments)\n",
        "print(\"Average F1 Score CDSMOTE DB:\",f1_c_final/experiments)"
      ]
    },
    {
      "cell_type": "markdown",
      "metadata": {
        "id": "wyjEtJROgI8F"
      },
      "source": [
        "Notice the the *weighted f1-score* when classifying this dataset increases from 0.94 to 0.98!"
      ]
    },
    {
      "cell_type": "code",
      "execution_count": null,
      "metadata": {
        "id": "Vzo_ALh6gI8F",
        "outputId": "6c42421b-2fd5-48ea-d0ea-0ae9875a8de9"
      },
      "outputs": [
        {
          "name": "stdout",
          "output_type": "stream",
          "text": [
            "\n",
            "Classification Report (Original DB)\n",
            "                        precision    recall  f1-score   support\n",
            "\n",
            "   Valve Needle Type 1       0.93      0.97      0.95        72\n",
            "           Valve Angle       0.83      0.76      0.79        25\n",
            "         Control Valve       1.00      1.00      1.00         2\n",
            "  DB&BBV + Valve Check       0.90      0.89      0.89        87\n",
            "  ESDV Valve Butterfly       1.00      0.83      0.91         6\n",
            "    Valve Globe Type 2       0.94      0.83      0.88        18\n",
            "                 Valve       1.00      0.29      0.44         7\n",
            "                DB&BBV       0.90      0.84      0.87        43\n",
            "                DB&BPV       1.00      0.58      0.74        12\n",
            "     Valve Ball Type 1       0.97      0.88      0.92        34\n",
            "Valve Butterfly Type 1       0.91      0.81      0.86        26\n",
            "    Exit to Atmosphere       0.00      0.00      0.00         2\n",
            "     Valve Ball Type 2       1.00      1.00      1.00         3\n",
            "    Temporary Strainer       1.00      1.00      1.00         4\n",
            "  Arrowhead + Triangle       1.00      1.00      1.00         5\n",
            "       Spectacle Blind       0.74      0.98      0.84       126\n",
            "             Arrowhead       1.00      0.95      0.97        19\n",
            "          Tie In Point       0.92      0.92      0.92        13\n",
            "     Flange + Triangle       0.98      0.99      0.99       263\n",
            "           Valve Check       1.00      0.33      0.50         3\n",
            "      Continuity Label       0.98      0.99      0.98       854\n",
            "               Control       1.00      1.00      1.00        13\n",
            "       ESDV Valve Ball       1.00      1.00      1.00         2\n",
            "            Valve Plug       1.00      0.71      0.83         7\n",
            "       Three Way Valve       1.00      0.50      0.67        12\n",
            "   Control Valve Globe       1.00      0.95      0.98        22\n",
            "                   Box       0.94      1.00      0.97       275\n",
            " Flange Single T-Shape       0.82      0.60      0.69        15\n",
            "   Valve Needle Type 2       1.00      0.94      0.97        52\n",
            "          Flange Joint       0.99      0.96      0.97        79\n",
            "               Reducer       1.00      0.95      0.98        21\n",
            "        Injector Point       0.97      0.82      0.89        38\n",
            "                Sensor       0.99      0.92      0.95        77\n",
            "       Valve Slab Gate       1.00      0.50      0.67         8\n",
            "              Triangle       0.95      0.91      0.93        23\n",
            "          Rupture Disc       1.00      0.80      0.89        10\n",
            "  ESDV Valve Slab Gate       1.00      0.88      0.94        26\n",
            "    Valve Globe Type 1       1.00      0.29      0.44         7\n",
            "\n",
            "              accuracy                           0.95      2311\n",
            "             macro avg       0.94      0.81      0.85      2311\n",
            "          weighted avg       0.95      0.95      0.95      2311\n",
            "\n",
            "\n",
            "Classification Report (CDSMOTE DB)\n",
            "                        precision    recall  f1-score   support\n",
            "\n",
            "   Valve Needle Type 1       0.96      0.97      0.97        72\n",
            "           Valve Angle       0.96      1.00      0.98        52\n",
            "         Control Valve       1.00      1.00      1.00        52\n",
            "  DB&BBV + Valve Check       0.93      0.98      0.95        86\n",
            "  ESDV Valve Butterfly       0.98      1.00      0.99        52\n",
            "    Valve Globe Type 2       1.00      0.98      0.99        52\n",
            "                 Valve       1.00      1.00      1.00        52\n",
            "                DB&BBV       0.98      0.92      0.95        52\n",
            "                DB&BPV       0.98      1.00      0.99        52\n",
            "     Valve Ball Type 1       1.00      0.96      0.98        52\n",
            "Valve Butterfly Type 1       0.98      0.98      0.98        52\n",
            "    Exit to Atmosphere       1.00      1.00      1.00        52\n",
            "     Valve Ball Type 2       1.00      1.00      1.00        52\n",
            "    Temporary Strainer       1.00      1.00      1.00        52\n",
            "  Arrowhead + Triangle       1.00      1.00      1.00        52\n",
            "       Spectacle Blind       0.89      0.97      0.93       126\n",
            "             Arrowhead       1.00      1.00      1.00        52\n",
            "          Tie In Point       1.00      1.00      1.00        52\n",
            "     Flange + Triangle       0.99      0.99      0.99       263\n",
            "           Valve Check       1.00      1.00      1.00        52\n",
            "      Continuity Label       1.00      0.99      1.00       852\n",
            "               Control       1.00      1.00      1.00        52\n",
            "       ESDV Valve Ball       1.00      1.00      1.00        52\n",
            "            Valve Plug       1.00      1.00      1.00        52\n",
            "       Three Way Valve       0.98      1.00      0.99        52\n",
            "   Control Valve Globe       1.00      0.98      0.99        52\n",
            "                   Box       1.00      0.99      0.99       274\n",
            " Flange Single T-Shape       0.98      1.00      0.99        52\n",
            "   Valve Needle Type 2       1.00      1.00      1.00        52\n",
            "          Flange Joint       1.00      0.95      0.97        78\n",
            "               Reducer       1.00      1.00      1.00        52\n",
            "        Injector Point       0.94      0.98      0.96        52\n",
            "                Sensor       0.99      0.95      0.97        77\n",
            "       Valve Slab Gate       1.00      1.00      1.00        52\n",
            "              Triangle       0.98      1.00      0.99        52\n",
            "          Rupture Disc       1.00      1.00      1.00        52\n",
            "  ESDV Valve Slab Gate       0.98      1.00      0.99        52\n",
            "    Valve Globe Type 1       1.00      1.00      1.00        52\n",
            "\n",
            "              accuracy                           0.99      3388\n",
            "             macro avg       0.99      0.99      0.99      3388\n",
            "          weighted avg       0.99      0.99      0.99      3388\n",
            "\n"
          ]
        }
      ],
      "source": [
        "import warnings; warnings.simplefilter('ignore')\n",
        "# Printing the classification report of the fifth experiment of each case\n",
        "from sklearn.metrics import classification_report\n",
        "print('\\nClassification Report (Original DB)')\n",
        "print(classification_report(y_test_o, y_pred_o, target_names=list(set(target))))\n",
        "print('\\nClassification Report (CDSMOTE DB)')\n",
        "print(classification_report(y_test_c, y_pred_c, target_names=list(set(target))))"
      ]
    },
    {
      "cell_type": "markdown",
      "metadata": {
        "id": "yPLA2-jhgI8F"
      },
      "source": [
        "Moreover, we can see previously unfavoured classes (i.e. `spectacle blind` or `valve check`) have increased precision and recall respectively, while the majority class (i.e. `sensors`) also has an increased f1-score! "
      ]
    }
  ],
  "metadata": {
    "hide_input": false,
    "kernelspec": {
      "display_name": "Python 3",
      "language": "python",
      "name": "python3"
    },
    "language_info": {
      "codemirror_mode": {
        "name": "ipython",
        "version": 3
      },
      "file_extension": ".py",
      "mimetype": "text/x-python",
      "name": "python",
      "nbconvert_exporter": "python",
      "pygments_lexer": "ipython3",
      "version": "3.7.3"
    },
    "varInspector": {
      "cols": {
        "lenName": 16,
        "lenType": 16,
        "lenVar": 40
      },
      "kernels_config": {
        "python": {
          "delete_cmd_postfix": "",
          "delete_cmd_prefix": "del ",
          "library": "var_list.py",
          "varRefreshCmd": "print(var_dic_list())"
        },
        "r": {
          "delete_cmd_postfix": ") ",
          "delete_cmd_prefix": "rm(",
          "library": "var_list.r",
          "varRefreshCmd": "cat(var_dic_list()) "
        }
      },
      "types_to_exclude": [
        "module",
        "function",
        "builtin_function_or_method",
        "instance",
        "_Feature"
      ],
      "window_display": false
    },
    "colab": {
      "name": "demo.ipynb",
      "provenance": [],
      "include_colab_link": true
    }
  },
  "nbformat": 4,
  "nbformat_minor": 0
}